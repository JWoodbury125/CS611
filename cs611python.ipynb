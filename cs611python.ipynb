{
  "nbformat": 4,
  "nbformat_minor": 0,
  "metadata": {
    "colab": {
      "name": "cs611python.ipynb",
      "version": "0.3.2",
      "provenance": [],
      "collapsed_sections": [],
      "include_colab_link": true
    },
    "kernelspec": {
      "name": "python3",
      "display_name": "Python 3"
    }
  },
  "cells": [
    {
      "cell_type": "markdown",
      "metadata": {
        "id": "view-in-github",
        "colab_type": "text"
      },
      "source": [
        "<a href=\"https://colab.research.google.com/github/JWoodbury125/CS6112018/blob/master/cs611python.ipynb\" target=\"_parent\"><img src=\"https://colab.research.google.com/assets/colab-badge.svg\" alt=\"Open In Colab\"/></a>"
      ]
    },
    {
      "metadata": {
        "id": "ilkgz617AdlX",
        "colab_type": "code",
        "outputId": "2356387b-9f03-4467-e77e-48f49933892f",
        "colab": {
          "base_uri": "https://localhost:8080/",
          "height": 34
        }
      },
      "cell_type": "code",
      "source": [
        "type(5/3)\n"
      ],
      "execution_count": 0,
      "outputs": [
        {
          "output_type": "execute_result",
          "data": {
            "text/plain": [
              "float"
            ]
          },
          "metadata": {
            "tags": []
          },
          "execution_count": 1
        }
      ]
    },
    {
      "metadata": {
        "id": "yBEtkfLVAyMC",
        "colab_type": "code",
        "outputId": "29fa7507-0541-439e-e2f3-e4b67f6e461d",
        "colab": {
          "base_uri": "https://localhost:8080/",
          "height": 34
        }
      },
      "cell_type": "code",
      "source": [
        "5%3"
      ],
      "execution_count": 0,
      "outputs": [
        {
          "output_type": "execute_result",
          "data": {
            "text/plain": [
              "2"
            ]
          },
          "metadata": {
            "tags": []
          },
          "execution_count": 6
        }
      ]
    },
    {
      "metadata": {
        "id": "X5N7fMeFA0rc",
        "colab_type": "code",
        "outputId": "08c718a4-c134-4738-d0e4-f30e02c0465d",
        "colab": {
          "base_uri": "https://localhost:8080/",
          "height": 34
        }
      },
      "cell_type": "code",
      "source": [
        "5.0/3"
      ],
      "execution_count": 0,
      "outputs": [
        {
          "output_type": "execute_result",
          "data": {
            "text/plain": [
              "1.6666666666666667"
            ]
          },
          "metadata": {
            "tags": []
          },
          "execution_count": 7
        }
      ]
    },
    {
      "metadata": {
        "id": "aWXP4TUuA12U",
        "colab_type": "code",
        "outputId": "fc0acbdc-428f-4bc5-d0c1-3a492fca0c5b",
        "colab": {
          "base_uri": "https://localhost:8080/",
          "height": 34
        }
      },
      "cell_type": "code",
      "source": [
        "5/3.0"
      ],
      "execution_count": 0,
      "outputs": [
        {
          "output_type": "execute_result",
          "data": {
            "text/plain": [
              "1.6666666666666667"
            ]
          },
          "metadata": {
            "tags": []
          },
          "execution_count": 8
        }
      ]
    },
    {
      "metadata": {
        "id": "7f7uzTKvA3xf",
        "colab_type": "code",
        "outputId": "54991aee-345d-4c96-e398-e3dac1d3c0eb",
        "colab": {
          "base_uri": "https://localhost:8080/",
          "height": 34
        }
      },
      "cell_type": "code",
      "source": [
        "5.2%3\n"
      ],
      "execution_count": 0,
      "outputs": [
        {
          "output_type": "execute_result",
          "data": {
            "text/plain": [
              "2.2"
            ]
          },
          "metadata": {
            "tags": []
          },
          "execution_count": 9
        }
      ]
    },
    {
      "metadata": {
        "id": "FSP4vuAAA5_A",
        "colab_type": "code",
        "outputId": "bbcb96a6-a265-49f2-aa11-7260ed398702",
        "colab": {
          "base_uri": "https://localhost:8080/",
          "height": 34
        }
      },
      "cell_type": "code",
      "source": [
        "float(123)"
      ],
      "execution_count": 0,
      "outputs": [
        {
          "output_type": "execute_result",
          "data": {
            "text/plain": [
              "123.0"
            ]
          },
          "metadata": {
            "tags": []
          },
          "execution_count": 11
        }
      ]
    },
    {
      "metadata": {
        "id": "zAxsGfBh65Y7",
        "colab_type": "code",
        "outputId": "845db45e-6092-4a27-8323-68fec5e9d6df",
        "colab": {
          "base_uri": "https://localhost:8080/",
          "height": 34
        }
      },
      "cell_type": "code",
      "source": [
        "200.3 ** 2"
      ],
      "execution_count": 0,
      "outputs": [
        {
          "output_type": "execute_result",
          "data": {
            "text/plain": [
              "40120.090000000004"
            ]
          },
          "metadata": {
            "tags": []
          },
          "execution_count": 2
        }
      ]
    },
    {
      "metadata": {
        "id": "C2Pn13oiBLki",
        "colab_type": "code",
        "outputId": "95e910cd-1a77-4c70-f074-8ebf297d8dbf",
        "colab": {
          "base_uri": "https://localhost:8080/",
          "height": 34
        }
      },
      "cell_type": "code",
      "source": [
        "bool(0.1)"
      ],
      "execution_count": 0,
      "outputs": [
        {
          "output_type": "execute_result",
          "data": {
            "text/plain": [
              "True"
            ]
          },
          "metadata": {
            "tags": []
          },
          "execution_count": 12
        }
      ]
    },
    {
      "metadata": {
        "id": "FPaIrmBDBNBZ",
        "colab_type": "code",
        "outputId": "cfeb11d3-6692-4874-955f-9f13e937a6c0",
        "colab": {
          "base_uri": "https://localhost:8080/",
          "height": 34
        }
      },
      "cell_type": "code",
      "source": [
        "bool(0)\n"
      ],
      "execution_count": 0,
      "outputs": [
        {
          "output_type": "execute_result",
          "data": {
            "text/plain": [
              "False"
            ]
          },
          "metadata": {
            "tags": []
          },
          "execution_count": 15
        }
      ]
    },
    {
      "metadata": {
        "id": "shlaIVOwBPFs",
        "colab_type": "code",
        "outputId": "4d23d2be-f170-411f-de7d-36f34fc8f56a",
        "colab": {
          "base_uri": "https://localhost:8080/",
          "height": 34
        }
      },
      "cell_type": "code",
      "source": [
        "range(5)"
      ],
      "execution_count": 32,
      "outputs": [
        {
          "output_type": "execute_result",
          "data": {
            "text/plain": [
              "range(0, 5)"
            ]
          },
          "metadata": {
            "tags": []
          },
          "execution_count": 32
        }
      ]
    },
    {
      "metadata": {
        "id": "4h79CO45c6mT",
        "colab_type": "code",
        "colab": {
          "base_uri": "https://localhost:8080/",
          "height": 102
        },
        "outputId": "68caf6ba-4d2b-4c56-d29b-a75227ddfa15"
      },
      "cell_type": "code",
      "source": [
        "for i in range(5):\n",
        "    print (i)"
      ],
      "execution_count": 31,
      "outputs": [
        {
          "output_type": "stream",
          "text": [
            "0\n",
            "1\n",
            "2\n",
            "3\n",
            "4\n"
          ],
          "name": "stdout"
        }
      ]
    },
    {
      "metadata": {
        "id": "2QueQ9NPBbaO",
        "colab_type": "code",
        "outputId": "f0390075-8d94-42e3-ebce-cbee1c173bb3",
        "colab": {
          "base_uri": "https://localhost:8080/",
          "height": 34
        }
      },
      "cell_type": "code",
      "source": [
        "def is_prime(n):\n",
        "  c = 0\n",
        "  for i in range(2 , n//2+1):\n",
        "    if (n%i)== 0: \n",
        "        c= c+1\n",
        "  if c>0:\n",
        "        return False\n",
        "  else:\n",
        "        return True\n",
        "      \n",
        "a =is_prime(97)\n",
        "a"
      ],
      "execution_count": 0,
      "outputs": [
        {
          "output_type": "execute_result",
          "data": {
            "text/plain": [
              "True"
            ]
          },
          "metadata": {
            "tags": []
          },
          "execution_count": 5
        }
      ]
    },
    {
      "metadata": {
        "id": "MVPlRlIvUwlF",
        "colab_type": "code",
        "colab": {
          "base_uri": "https://localhost:8080/",
          "height": 136
        },
        "outputId": "aaee9406-d6c6-4ba8-edd6-8d48e15b1e1c"
      },
      "cell_type": "code",
      "source": [
        "found =0\n",
        "x =20\n",
        "while (found<20 and x>0):\n",
        "   if (x%5 ==0 or x%7 ==0 or x%11==0):\n",
        "    print(x)\n",
        "    found = found +1\n",
        "   x = x-1\n",
        "    "
      ],
      "execution_count": 41,
      "outputs": [
        {
          "output_type": "stream",
          "text": [
            "20\n",
            "15\n",
            "14\n",
            "11\n",
            "10\n",
            "7\n",
            "5\n"
          ],
          "name": "stdout"
        }
      ]
    },
    {
      "metadata": {
        "id": "LiIjq8yCGvd2",
        "colab_type": "code",
        "outputId": "1332310e-ca0a-4e71-84a5-5d988def70e2",
        "colab": {
          "base_uri": "https://localhost:8080/",
          "height": 34
        }
      },
      "cell_type": "code",
      "source": [
        "def fib(x):\n",
        "    if (x==0 or x==1):\n",
        "        return 1\n",
        "    else:\n",
        "        return fib(x-1)+fib(x-2)\n",
        "  \n",
        "fib(12)"
      ],
      "execution_count": 0,
      "outputs": [
        {
          "output_type": "execute_result",
          "data": {
            "text/plain": [
              "233"
            ]
          },
          "metadata": {
            "tags": []
          },
          "execution_count": 25
        }
      ]
    },
    {
      "metadata": {
        "id": "71pLBl-eVfm8",
        "colab_type": "code",
        "colab": {
          "base_uri": "https://localhost:8080/",
          "height": 164
        },
        "outputId": "e1206235-38c6-4845-9871-9432d4d4a176"
      },
      "cell_type": "code",
      "source": [
        "2000.3 ** 200"
      ],
      "execution_count": 1,
      "outputs": [
        {
          "output_type": "error",
          "ename": "OverflowError",
          "evalue": "ignored",
          "traceback": [
            "\u001b[0;31m---------------------------------------------------------------------------\u001b[0m",
            "\u001b[0;31mOverflowError\u001b[0m                             Traceback (most recent call last)",
            "\u001b[0;32m<ipython-input-1-0e53818c35c3>\u001b[0m in \u001b[0;36m<module>\u001b[0;34m()\u001b[0m\n\u001b[0;32m----> 1\u001b[0;31m \u001b[0;36m2000.3\u001b[0m \u001b[0;34m**\u001b[0m \u001b[0;36m200\u001b[0m\u001b[0;34m\u001b[0m\u001b[0;34m\u001b[0m\u001b[0m\n\u001b[0m",
            "\u001b[0;31mOverflowError\u001b[0m: (34, 'Numerical result out of range')"
          ]
        }
      ]
    },
    {
      "metadata": {
        "id": "NH9NCWN_V49S",
        "colab_type": "code",
        "colab": {
          "base_uri": "https://localhost:8080/",
          "height": 34
        },
        "outputId": "75665221-3fbb-4f84-aecb-9da03aafad32"
      },
      "cell_type": "code",
      "source": [
        "1.0+1.0-1.0"
      ],
      "execution_count": 3,
      "outputs": [
        {
          "output_type": "execute_result",
          "data": {
            "text/plain": [
              "float"
            ]
          },
          "metadata": {
            "tags": []
          },
          "execution_count": 3
        }
      ]
    },
    {
      "metadata": {
        "id": "6Sh1ZzIxXLXL",
        "colab_type": "code",
        "colab": {
          "base_uri": "https://localhost:8080/",
          "height": 34
        },
        "outputId": "0c7fd909-ea47-44ef-95e2-043a9e5cb488"
      },
      "cell_type": "code",
      "source": [
        "1.0 + 1.0e20 -1.0e20"
      ],
      "execution_count": 5,
      "outputs": [
        {
          "output_type": "execute_result",
          "data": {
            "text/plain": [
              "0.0"
            ]
          },
          "metadata": {
            "tags": []
          },
          "execution_count": 5
        }
      ]
    },
    {
      "metadata": {
        "id": "9uaHD3TtX2Sq",
        "colab_type": "code",
        "colab": {
          "base_uri": "https://localhost:8080/",
          "height": 34
        },
        "outputId": "b8ad31fc-0051-46af-e74e-48ca0af4ce55"
      },
      "cell_type": "code",
      "source": [
        " float(123)  #integer cast to float"
      ],
      "execution_count": 15,
      "outputs": [
        {
          "output_type": "execute_result",
          "data": {
            "text/plain": [
              "123.0"
            ]
          },
          "metadata": {
            "tags": []
          },
          "execution_count": 15
        }
      ]
    },
    {
      "metadata": {
        "id": "z08iiefRZRY0",
        "colab_type": "code",
        "colab": {
          "base_uri": "https://localhost:8080/",
          "height": 34
        },
        "outputId": "187e1128-973e-4de8-8676-ebf6dc635766"
      },
      "cell_type": "code",
      "source": [
        "float('123') #string cast to float"
      ],
      "execution_count": 16,
      "outputs": [
        {
          "output_type": "execute_result",
          "data": {
            "text/plain": [
              "123.0"
            ]
          },
          "metadata": {
            "tags": []
          },
          "execution_count": 16
        }
      ]
    },
    {
      "metadata": {
        "id": "Qj16CO_dZRjf",
        "colab_type": "code",
        "colab": {
          "base_uri": "https://localhost:8080/",
          "height": 34
        },
        "outputId": "b356d0b0-df20-4bdd-911a-1e8b79b4d8ec"
      },
      "cell_type": "code",
      "source": [
        "float('123.23') #string cast to float"
      ],
      "execution_count": 17,
      "outputs": [
        {
          "output_type": "execute_result",
          "data": {
            "text/plain": [
              "123.23"
            ]
          },
          "metadata": {
            "tags": []
          },
          "execution_count": 17
        }
      ]
    },
    {
      "metadata": {
        "id": "NiFlSat4ZRsD",
        "colab_type": "code",
        "colab": {
          "base_uri": "https://localhost:8080/",
          "height": 34
        },
        "outputId": "d85740a7-82bb-436f-d0c8-8b5fe8856ef3"
      },
      "cell_type": "code",
      "source": [
        "int(123.23)  #float cast to int"
      ],
      "execution_count": 19,
      "outputs": [
        {
          "output_type": "execute_result",
          "data": {
            "text/plain": [
              "123"
            ]
          },
          "metadata": {
            "tags": []
          },
          "execution_count": 19
        }
      ]
    },
    {
      "metadata": {
        "id": "BQaVN17wZR3A",
        "colab_type": "code",
        "colab": {
          "base_uri": "https://localhost:8080/",
          "height": 164
        },
        "outputId": "360b9661-8662-4818-a293-8be10ec39963"
      },
      "cell_type": "code",
      "source": [
        "int('123.23')  #cannot convert string to int"
      ],
      "execution_count": 20,
      "outputs": [
        {
          "output_type": "error",
          "ename": "ValueError",
          "evalue": "ignored",
          "traceback": [
            "\u001b[0;31m---------------------------------------------------------------------------\u001b[0m",
            "\u001b[0;31mValueError\u001b[0m                                Traceback (most recent call last)",
            "\u001b[0;32m<ipython-input-20-2477af8f615f>\u001b[0m in \u001b[0;36m<module>\u001b[0;34m()\u001b[0m\n\u001b[0;32m----> 1\u001b[0;31m \u001b[0mint\u001b[0m\u001b[0;34m(\u001b[0m\u001b[0;34m'123.23'\u001b[0m\u001b[0;34m)\u001b[0m  \u001b[0;31m#string cast to int\u001b[0m\u001b[0;34m\u001b[0m\u001b[0;34m\u001b[0m\u001b[0m\n\u001b[0m",
            "\u001b[0;31mValueError\u001b[0m: invalid literal for int() with base 10: '123.23'"
          ]
        }
      ]
    },
    {
      "metadata": {
        "id": "Omka_AgKZWwA",
        "colab_type": "code",
        "colab": {
          "base_uri": "https://localhost:8080/",
          "height": 34
        },
        "outputId": "20f66c80-f113-4604-f637-ea04f7dc8c39"
      },
      "cell_type": "code",
      "source": [
        "int(float('123.23')) #string is cast to float then to int"
      ],
      "execution_count": 21,
      "outputs": [
        {
          "output_type": "execute_result",
          "data": {
            "text/plain": [
              "123"
            ]
          },
          "metadata": {
            "tags": []
          },
          "execution_count": 21
        }
      ]
    },
    {
      "metadata": {
        "id": "5nCXgJOTZW1T",
        "colab_type": "code",
        "colab": {
          "base_uri": "https://localhost:8080/",
          "height": 34
        },
        "outputId": "d7bc7f07-4c97-4c6f-f7d6-694f11dfda3f"
      },
      "cell_type": "code",
      "source": [
        "str(12) #cast int to string"
      ],
      "execution_count": 22,
      "outputs": [
        {
          "output_type": "execute_result",
          "data": {
            "text/plain": [
              "'12'"
            ]
          },
          "metadata": {
            "tags": []
          },
          "execution_count": 22
        }
      ]
    },
    {
      "metadata": {
        "id": "s2z4eqgNZW8R",
        "colab_type": "code",
        "colab": {
          "base_uri": "https://localhost:8080/",
          "height": 34
        },
        "outputId": "00f38b74-c39d-4e7b-e4ee-0a91be59a98f"
      },
      "cell_type": "code",
      "source": [
        "str(12.2) #cast float to string"
      ],
      "execution_count": 23,
      "outputs": [
        {
          "output_type": "execute_result",
          "data": {
            "text/plain": [
              "'12.2'"
            ]
          },
          "metadata": {
            "tags": []
          },
          "execution_count": 23
        }
      ]
    },
    {
      "metadata": {
        "id": "kHex12b5ZXHA",
        "colab_type": "code",
        "colab": {
          "base_uri": "https://localhost:8080/",
          "height": 34
        },
        "outputId": "0b90a18d-7766-496d-e709-0abbf3e8334d"
      },
      "cell_type": "code",
      "source": [
        "bool ('a')  #string cast to boolean and returns true because parameter is not empty"
      ],
      "execution_count": 24,
      "outputs": [
        {
          "output_type": "execute_result",
          "data": {
            "text/plain": [
              "True"
            ]
          },
          "metadata": {
            "tags": []
          },
          "execution_count": 24
        }
      ]
    },
    {
      "metadata": {
        "id": "TLFNXllSZXOC",
        "colab_type": "code",
        "colab": {
          "base_uri": "https://localhost:8080/",
          "height": 34
        },
        "outputId": "b74df3ef-2baf-4439-c26d-43f6b9e980df"
      },
      "cell_type": "code",
      "source": [
        "bool(0) #int cast to boolean and returns false becasue parameter is considered empty/null"
      ],
      "execution_count": 27,
      "outputs": [
        {
          "output_type": "execute_result",
          "data": {
            "text/plain": [
              "False"
            ]
          },
          "metadata": {
            "tags": []
          },
          "execution_count": 27
        }
      ]
    },
    {
      "metadata": {
        "id": "VH9X3mk8ZXWL",
        "colab_type": "code",
        "colab": {
          "base_uri": "https://localhost:8080/",
          "height": 34
        },
        "outputId": "f159d042-c30f-4802-ea90-d3c5c758e15e"
      },
      "cell_type": "code",
      "source": [
        "bool(0.1) #float cast to boolean and returns true because parameter not equal to 0"
      ],
      "execution_count": 28,
      "outputs": [
        {
          "output_type": "execute_result",
          "data": {
            "text/plain": [
              "True"
            ]
          },
          "metadata": {
            "tags": []
          },
          "execution_count": 28
        }
      ]
    },
    {
      "metadata": {
        "id": "o10bqrupQ6Pg",
        "colab_type": "code",
        "outputId": "92031040-e957-49a4-9db9-38838bb23715",
        "colab": {
          "base_uri": "https://localhost:8080/",
          "height": 34
        }
      },
      "cell_type": "code",
      "source": [
        "def prime_formula(x):\n",
        "  prime = 6*x+1\n",
        "  \n",
        "print(prime_formula(20))"
      ],
      "execution_count": 0,
      "outputs": [
        {
          "output_type": "stream",
          "text": [
            "None\n"
          ],
          "name": "stdout"
        }
      ]
    },
    {
      "metadata": {
        "id": "F4x6AvS7HN1g",
        "colab_type": "code",
        "colab": {}
      },
      "cell_type": "code",
      "source": [
        "def prodlist([x]):\n",
        "  "
      ],
      "execution_count": 0,
      "outputs": []
    },
    {
      "metadata": {
        "id": "RqLinkwLW0HH",
        "colab_type": "code",
        "outputId": "1fe5b50b-76dc-4d20-b6cf-109d6c2cd1a6",
        "colab": {
          "base_uri": "https://localhost:8080/",
          "height": 34
        }
      },
      "cell_type": "code",
      "source": [
        "2//2\n"
      ],
      "execution_count": 0,
      "outputs": [
        {
          "output_type": "execute_result",
          "data": {
            "text/plain": [
              "1"
            ]
          },
          "metadata": {
            "tags": []
          },
          "execution_count": 104
        }
      ]
    },
    {
      "metadata": {
        "id": "FF8SKxmzr7Cq",
        "colab_type": "code",
        "colab": {
          "base_uri": "https://localhost:8080/",
          "height": 136
        },
        "outputId": "c9e14fb2-622f-499b-a8c5-73e01409392f"
      },
      "cell_type": "code",
      "source": [
        "#a\n",
        "def printName(x):\n",
        "  for i in x:\n",
        "    print(i)\n",
        "    \n",
        "a =['Jennifer','Jenna','Shirley']\n",
        "printName(a)\n",
        "\n",
        "#b\n",
        "def reverseName(x):\n",
        "     i = len(x)-1\n",
        "     while (i>=0):\n",
        "        print (x[i])\n",
        "        i = i-1\n",
        "    \n",
        "reverseName(a)\n",
        "\n",
        "#c\n",
        "def count(x):\n",
        "  counter = 0\n",
        "  for i in x:\n",
        "    counter = counter +1\n",
        "  \n",
        "  print(counter)\n",
        "  \n",
        "count(a)"
      ],
      "execution_count": 74,
      "outputs": [
        {
          "output_type": "stream",
          "text": [
            "Jennifer\n",
            "Jenna\n",
            "Shirley\n",
            "Shirley\n",
            "Jenna\n",
            "Jennifer\n",
            "3\n"
          ],
          "name": "stdout"
        }
      ]
    },
    {
      "metadata": {
        "id": "u_U0vL8-sgpi",
        "colab_type": "code",
        "colab": {
          "base_uri": "https://localhost:8080/",
          "height": 119
        },
        "outputId": "1497f900-c1b0-4be6-a2f9-7e1b15b1e15d"
      },
      "cell_type": "code",
      "source": [
        "#a\n",
        "a = ['blue','green','yellow','red', 'orange','black']\n",
        "#b\n",
        "b = a\n",
        "#c\n",
        "b[1]= 'purple' #d. changes the value of a[1] also\n",
        "print (a)\n",
        "print (b)\n",
        "#e\n",
        "c =a[:]\n",
        "print(c)\n",
        "#f\n",
        "c[2] ='pink'\n",
        "print (c)\n",
        "print(b)\n",
        "print(a) #g. a remained unchanged"
      ],
      "execution_count": 84,
      "outputs": [
        {
          "output_type": "stream",
          "text": [
            "['blue', 'purple', 'yellow', 'red', 'orange', 'black']\n",
            "['blue', 'purple', 'yellow', 'red', 'orange', 'black']\n",
            "['blue', 'purple', 'yellow', 'red', 'orange', 'black']\n",
            "['blue', 'purple', 'pink', 'red', 'orange', 'black']\n",
            "['blue', 'purple', 'yellow', 'red', 'orange', 'black']\n",
            "['blue', 'purple', 'yellow', 'red', 'orange', 'black']\n"
          ],
          "name": "stdout"
        }
      ]
    },
    {
      "metadata": {
        "id": "iA-m-7zf6GGw",
        "colab_type": "code",
        "colab": {}
      },
      "cell_type": "code",
      "source": [
        ""
      ],
      "execution_count": 0,
      "outputs": []
    }
  ]
}